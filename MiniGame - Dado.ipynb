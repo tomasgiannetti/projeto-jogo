{
 "cells": [
  {
   "cell_type": "code",
   "execution_count": 7,
   "id": "38ac086a",
   "metadata": {
    "ExecuteTime": {
     "end_time": "2022-10-24T13:25:32.552251Z",
     "start_time": "2022-10-24T13:25:32.536251Z"
    }
   },
   "outputs": [],
   "source": [
    "import random"
   ]
  },
  {
   "cell_type": "code",
   "execution_count": 16,
   "id": "4afb7a61",
   "metadata": {
    "ExecuteTime": {
     "end_time": "2022-10-24T18:30:10.248554Z",
     "start_time": "2022-10-24T18:30:10.226554Z"
    }
   },
   "outputs": [],
   "source": [
    "def rolar_dado1():\n",
    "    import random\n",
    "    init = 1\n",
    "    final = 7\n",
    "    dado = int(random.randrange(init, final, 1))\n",
    "    acertou = False\n",
    "    continuar = True\n",
    "    contagem = 0\n",
    "    vitorias = 0\n",
    "    #Codigo try abaixo referente a tentativa de tratativa de erro para digito de letras \n",
    "    try:\n",
    "        chute = int(input(f\"Adivinhe o número do dado (entre {init} e {final-1}) :\"))\n",
    "    except:\n",
    "        continuar = True\n",
    "        print('Colocar um número')\n",
    "        rolar_dado1()\n",
    "\n",
    "\n",
    "    while continuar == True:\n",
    "        \n",
    "        #Primeiro if, em que verifica se o input está na range do dado\n",
    "        \n",
    "            if chute > final-1 or chute < init:\n",
    "                print(f'O dado só tem 6 lados e são números de {init} a {final-1}!')\n",
    "                continuar = True\n",
    "                novo_jogo = input('Quer jogar novamente?(Sim ou Não) ')\n",
    "                \n",
    "           #Segundo if, que verifica se o usuario quer jogar novamente\n",
    "        \n",
    "                if novo_jogo == 'Sim' or novo_jogo == 'S' or novo_jogo == 's' or novo_jogo == 'sim' or novo_jogo == 'Si' or novo_jogo == 'si' or novo_jogo == 'yes' or novo_jogo == 'Yes':\n",
    "                    continuar = True\n",
    "                    acertou = False\n",
    "                    \n",
    "             #Codigo abaixo referente a tentativa de tratativa de erro para digito de letras no input para novo loop       \n",
    "                    try:\n",
    "                        chute = input(f\"Adivinhe o número do dado (entre {init} e {final-1}) :\")\n",
    "                    \n",
    "                    except:\n",
    "                        continuar = True\n",
    "                        print('Colocar um número')\n",
    "\n",
    "            #Caso usuario digite não na variavel novo_jogo\n",
    "                else:\n",
    "                    print('Que pena! Até o proximo jogo!')\n",
    "                    continuar = False\n",
    "                    acertou = False\n",
    "            #Contagem de uma partida e novo numero de dado no caso do usuario errar \n",
    "            contagem +=1\n",
    "            dado = int(random.randrange(init, final, 1))\n",
    "            try:\n",
    "                if int(chute) == dado:\n",
    "                    acertou = True\n",
    "                    if acertou == True:\n",
    "                        vitorias += 1\n",
    "                        print(f'Parabéns! Você acertou! O dado deu {dado}. Você tem um total de {vitorias} vitorias em um total de {contagem} jogos')\n",
    "                        novo_jogo1 = input('Quer jogar novamente?(Sim ou não) ')\n",
    "\n",
    "                    if novo_jogo1 == 'Sim' or novo_jogo1 == 'S' or novo_jogo1 == 's' or novo_jogo1 == 'sim' or novo_jogo1 == 'Si' or novo_jogo1 == 'si' or novo_jogo1 == 'yes' or novo_jogo1 == 'Yes':\n",
    "                        continuar = True\n",
    "                        acertou = False\n",
    "                        try:\n",
    "                            chute = input(f\"Adivinhe o número do dado (entre {init} e {final-1}) :\")\n",
    "                        except:\n",
    "                            continuar = True\n",
    "                            print('Colocar um número')\n",
    "\n",
    "                    else:\n",
    "                        print('Que pena! Até o proximo jogo!')\n",
    "                        print(f'Seu placar final foi de {vitorias} vitorias em um total de {contagem} jogos')\n",
    "                        continuar = False\n",
    "                        acertou = False\n",
    "                        break\n",
    "\n",
    "\n",
    "                else:\n",
    "                    print(f'Você não acertou! O dado deu {dado}. Você tem um total de {vitorias} vitorias em um total de {contagem} jogos')\n",
    "                    novo_jogo = input('Quer jogar novamente?(Sim ou Não) ')\n",
    "\n",
    "                    if novo_jogo == 'Sim' or novo_jogo == 'S' or novo_jogo == 's' or novo_jogo == 'sim' or novo_jogo == 'Si' or novo_jogo == 'si' or novo_jogo == 'yes' or novo_jogo == 'Yes':\n",
    "                        continuar = True\n",
    "                        acertou = False\n",
    "                        try:\n",
    "                            chute = input(f\"Adivinhe o número do dado (entre {init} e {final-1}) :\")\n",
    "                        except:\n",
    "                            continuar = True\n",
    "                            print('Colocar um número')\n",
    "                    else:\n",
    "                        print('Que pena! Até o proximo jogo!')\n",
    "                        continuar = False\n",
    "                        acertou = False\n",
    "                        break\n",
    "            except:\n",
    "                continuar = True\n",
    "                print('Colocar um número')\n",
    "\n",
    "            \n",
    "            "
   ]
  },
  {
   "cell_type": "code",
   "execution_count": 19,
   "id": "f7d3ff97",
   "metadata": {
    "ExecuteTime": {
     "end_time": "2022-10-24T18:30:30.884552Z",
     "start_time": "2022-10-24T18:30:22.680553Z"
    },
    "scrolled": false
   },
   "outputs": [
    {
     "name": "stdout",
     "output_type": "stream",
     "text": [
      "Adivinhe o número do dado (entre 1 e 6) :7\n",
      "O dado só tem 6 lados e são números de 1 a 6!\n",
      "Quer jogar novamente?(Sim ou Não) s\n",
      "Adivinhe o número do dado (entre 1 e 6) :7\n",
      "Você não acertou! O dado deu 5. Você tem um total de 0 vitorias em um total de 1 jogos\n",
      "Quer jogar novamente?(Sim ou Não) s\n",
      "Adivinhe o número do dado (entre 1 e 6) :7\n"
     ]
    },
    {
     "ename": "TypeError",
     "evalue": "'>' not supported between instances of 'str' and 'int'",
     "output_type": "error",
     "traceback": [
      "\u001b[1;31m---------------------------------------------------------------------------\u001b[0m",
      "\u001b[1;31mTypeError\u001b[0m                                 Traceback (most recent call last)",
      "Input \u001b[1;32mIn [19]\u001b[0m, in \u001b[0;36m<cell line: 1>\u001b[1;34m()\u001b[0m\n\u001b[1;32m----> 1\u001b[0m \u001b[43mrolar_dado1\u001b[49m\u001b[43m(\u001b[49m\u001b[43m)\u001b[49m\n",
      "Input \u001b[1;32mIn [16]\u001b[0m, in \u001b[0;36mrolar_dado1\u001b[1;34m()\u001b[0m\n\u001b[0;32m     16\u001b[0m     rolar_dado1()\n\u001b[0;32m     19\u001b[0m \u001b[38;5;28;01mwhile\u001b[39;00m continuar \u001b[38;5;241m==\u001b[39m \u001b[38;5;28;01mTrue\u001b[39;00m:\n\u001b[0;32m     20\u001b[0m     \n\u001b[0;32m     21\u001b[0m     \u001b[38;5;66;03m#Primeiro if, em que verifica se o input está na range do dado\u001b[39;00m\n\u001b[1;32m---> 23\u001b[0m         \u001b[38;5;28;01mif\u001b[39;00m \u001b[43mchute\u001b[49m\u001b[43m \u001b[49m\u001b[38;5;241;43m>\u001b[39;49m\u001b[43m \u001b[49m\u001b[43mfinal\u001b[49m\u001b[38;5;241;43m-\u001b[39;49m\u001b[38;5;241;43m1\u001b[39;49m \u001b[38;5;129;01mor\u001b[39;00m chute \u001b[38;5;241m<\u001b[39m init:\n\u001b[0;32m     24\u001b[0m             \u001b[38;5;28mprint\u001b[39m(\u001b[38;5;124mf\u001b[39m\u001b[38;5;124m'\u001b[39m\u001b[38;5;124mO dado só tem 6 lados e são números de \u001b[39m\u001b[38;5;132;01m{\u001b[39;00minit\u001b[38;5;132;01m}\u001b[39;00m\u001b[38;5;124m a \u001b[39m\u001b[38;5;132;01m{\u001b[39;00mfinal\u001b[38;5;241m-\u001b[39m\u001b[38;5;241m1\u001b[39m\u001b[38;5;132;01m}\u001b[39;00m\u001b[38;5;124m!\u001b[39m\u001b[38;5;124m'\u001b[39m)\n\u001b[0;32m     25\u001b[0m             continuar \u001b[38;5;241m=\u001b[39m \u001b[38;5;28;01mTrue\u001b[39;00m\n",
      "\u001b[1;31mTypeError\u001b[0m: '>' not supported between instances of 'str' and 'int'"
     ]
    }
   ],
   "source": [
    "rolar_dado1()"
   ]
  },
  {
   "cell_type": "code",
   "execution_count": null,
   "id": "b52e20ad",
   "metadata": {},
   "outputs": [],
   "source": []
  },
  {
   "cell_type": "code",
   "execution_count": 21,
   "id": "a36221fe",
   "metadata": {
    "ExecuteTime": {
     "end_time": "2022-10-24T18:50:43.624916Z",
     "start_time": "2022-10-24T18:50:41.961918Z"
    }
   },
   "outputs": [
    {
     "name": "stdout",
     "output_type": "stream",
     "text": [
      "Você gostaria de gerar um novo bolão?asdf\n",
      "favor digitar sim ou nao\n"
     ]
    }
   ],
   "source": [
    "#Primeiro passo foi importar a biblioteca Random\n",
    "#criar uma classe e atribuir\n",
    "#referenciar os atributos que usarei nessa função\n",
    "#primeiro a pergunta que irá iniciar nossa função\n",
    "#a resposta que será referenciada com a pergunta\n",
    "#se a pessoa responder sim ou S imprimimos o valor\n",
    "#se a resposta for não ou n imprimimos agradecemos sua participação\n",
    "# se for colocado outra informação que nã seja as relacionadas acima responder, favor digitar sim ou não\n",
    "#se não obedecer a nenhuma dessas questões imprimir, \"ocorreu um erro ao receber sua resposta\"\n",
    "#por último a função para gerar o bolão\n",
    "\n",
    "import random\n",
    "class SimuladorMegaSena:\n",
    "    def __init__(self):\n",
    "        self.mensagem = \"Você gostaria de gerar um novo bolão?\"\n",
    "\n",
    "    def Iniciar(self):\n",
    "        resposta = input(self.mensagem)\n",
    "        try:\n",
    "            if resposta == \"sim\" or resposta ==\"s\":\n",
    "                self.GerarBolaoDaMega()\n",
    "                print(\"Boa sorte e seja mais um Milionário!\")\n",
    "            elif resposta == \"nao\" or resposta == \"n\":\n",
    "                 print(\"agradecemos a sua participação!\")\n",
    "            else:\n",
    "                 print(\"favor digitar sim ou nao\")\n",
    "        except:\n",
    "            print(\"ocorreu um erro ao receber sua resposta\")\n",
    "\n",
    "    def GerarBolaoDaMega(self):\n",
    "        print(random.sample(range(1,60),6))\n",
    "        print(random.sample(range(1,60),6))\n",
    "        print(random.sample(range(1,60),6))\n",
    "\n",
    "loteria = SimuladorMegaSena()\n",
    "loteria.Iniciar()"
   ]
  },
  {
   "cell_type": "code",
   "execution_count": 7,
   "id": "37f4d024",
   "metadata": {
    "ExecuteTime": {
     "end_time": "2022-10-24T19:26:44.568182Z",
     "start_time": "2022-10-24T19:26:44.542181Z"
    }
   },
   "outputs": [],
   "source": [
    "def rolar_dado1():\n",
    "    import random\n",
    "    init = 1\n",
    "    final = 7\n",
    "    acertou = False\n",
    "    continuar = True\n",
    "    contagem = 0\n",
    "    vitorias = 0\n",
    "    \n",
    "\n",
    "\n",
    "    while continuar == True:\n",
    "        try:\n",
    "            chute = int(input(f\"Adivinhe o número do dado (entre {init} e {final-1}) :\"))        \n",
    "            contagem +=1\n",
    "            dado = int(random.randrange(init, final, 1))\n",
    "\n",
    "            if chute > final-1 or chute < init:\n",
    "                print(f'O dado só tem 6 lados e são números de {init} a {final-1}!')\n",
    "                continuar = True\n",
    "                novo_jogo = input('Quer jogar novamente?(Sim ou Não) ')\n",
    "                if novo_jogo == 'Sim' or novo_jogo == 'S' or novo_jogo == 's' or novo_jogo == 'sim' or novo_jogo == 'Si' or novo_jogo == 'si' or novo_jogo == 'yes' or novo_jogo == 'Yes':\n",
    "                    continuar = True\n",
    "                    acertou = False\n",
    "                    chute = int(input(f\"Adivinhe o número do dado (entre {init} e {final-1}) :\"))\n",
    "                else:\n",
    "                    print('Que pena! Até o proximo jogo!')\n",
    "                    continuar = False\n",
    "                    acertou = False\n",
    "\n",
    "            if chute == dado:\n",
    "                acertou = True\n",
    "                vitorias += 1\n",
    "                print(f'Parabéns! Você acertou! O dado deu {dado} Você tem um total de {vitorias} vitorias em um total de {contagem} jogos')\n",
    "                novo_jogo1 = input('Quer jogar novamente?(Sim ou não) ')\n",
    "\n",
    "                if novo_jogo1 == 'Sim' or novo_jogo1 == 'S' or novo_jogo1 == 's' or novo_jogo1 == 'sim' or novo_jogo1 == 'Si' or novo_jogo1 == 'si' or novo_jogo1 == 'yes' or novo_jogo1 == 'Yes':\n",
    "                    continuar = True\n",
    "                    acertou = False\n",
    "                    chute = int(input(f\"Adivinhe o número do dado (entre {init} e {final-1}) :\"))\n",
    "\n",
    "                else:\n",
    "                    print('Que pena! Até o proximo jogo!')\n",
    "                    print(f'Seu placar final foi de {vitorias} vitorias em um total de {contagem} jogos')\n",
    "                    continuar = False\n",
    "                    acertou = False\n",
    "                    break\n",
    "\n",
    "            else:\n",
    "                print(f'Você não acertou! O dado deu {dado}. Você tem um total de {vitorias} vitorias em um total de {contagem} jogos')\n",
    "                novo_jogo = input('Quer jogar novamente?(Sim ou Não) ')\n",
    "\n",
    "                if novo_jogo == 'Sim' or novo_jogo == 'S' or novo_jogo == 's' or novo_jogo == 'sim' or novo_jogo == 'Si' or novo_jogo == 'si' or novo_jogo == 'yes' or novo_jogo == 'Yes':\n",
    "                    continuar = True\n",
    "                    acertou = False\n",
    "                    chute = int(input(f\"Adivinhe o número do dado (entre {init} e {final-1}) :\"))\n",
    "                else:\n",
    "                    print('Que pena! Até o proximo jogo!')\n",
    "                    continuar = False\n",
    "                    acertou = False\n",
    "                    break\n",
    "        except:\n",
    "            continuar = True\n",
    "            print('Colocar um número')\n",
    "            chute = int(input(f\"Adivinhe o número do dado (entre {init} e {final-1}) :\"))"
   ]
  },
  {
   "cell_type": "code",
   "execution_count": 8,
   "id": "bbb64090",
   "metadata": {
    "ExecuteTime": {
     "end_time": "2022-10-24T19:27:09.802181Z",
     "start_time": "2022-10-24T19:26:46.405182Z"
    },
    "scrolled": false
   },
   "outputs": [
    {
     "name": "stdout",
     "output_type": "stream",
     "text": [
      "Adivinhe o número do dado (entre 1 e 6) :2\n",
      "Você não acertou! O dado deu 3. Você tem um total de 0 vitorias em um total de 1 jogos\n",
      "Quer jogar novamente?(Sim ou Não) s\n",
      "Adivinhe o número do dado (entre 1 e 6) :a\n",
      "Colocar um número\n",
      "Adivinhe o número do dado (entre 1 e 6) :2\n",
      "Adivinhe o número do dado (entre 1 e 6) :2\n",
      "Você não acertou! O dado deu 4. Você tem um total de 0 vitorias em um total de 2 jogos\n",
      "Quer jogar novamente?(Sim ou Não) s\n",
      "Adivinhe o número do dado (entre 1 e 6) :a\n",
      "Colocar um número\n",
      "Adivinhe o número do dado (entre 1 e 6) :2\n",
      "Adivinhe o número do dado (entre 1 e 6) :2\n",
      "Você não acertou! O dado deu 6. Você tem um total de 0 vitorias em um total de 3 jogos\n",
      "Quer jogar novamente?(Sim ou Não) s\n",
      "Adivinhe o número do dado (entre 1 e 6) :f\n",
      "Colocar um número\n",
      "Adivinhe o número do dado (entre 1 e 6) :s\n"
     ]
    },
    {
     "ename": "ValueError",
     "evalue": "invalid literal for int() with base 10: 's'",
     "output_type": "error",
     "traceback": [
      "\u001b[1;31m---------------------------------------------------------------------------\u001b[0m",
      "\u001b[1;31mValueError\u001b[0m                                Traceback (most recent call last)",
      "Input \u001b[1;32mIn [7]\u001b[0m, in \u001b[0;36mrolar_dado1\u001b[1;34m()\u001b[0m\n\u001b[0;32m     55\u001b[0m     acertou \u001b[38;5;241m=\u001b[39m \u001b[38;5;28;01mFalse\u001b[39;00m\n\u001b[1;32m---> 56\u001b[0m     chute \u001b[38;5;241m=\u001b[39m \u001b[38;5;28;43mint\u001b[39;49m\u001b[43m(\u001b[49m\u001b[38;5;28;43minput\u001b[39;49m\u001b[43m(\u001b[49m\u001b[38;5;124;43mf\u001b[39;49m\u001b[38;5;124;43m\"\u001b[39;49m\u001b[38;5;124;43mAdivinhe o número do dado (entre \u001b[39;49m\u001b[38;5;132;43;01m{\u001b[39;49;00m\u001b[43minit\u001b[49m\u001b[38;5;132;43;01m}\u001b[39;49;00m\u001b[38;5;124;43m e \u001b[39;49m\u001b[38;5;132;43;01m{\u001b[39;49;00m\u001b[43mfinal\u001b[49m\u001b[38;5;241;43m-\u001b[39;49m\u001b[38;5;241;43m1\u001b[39;49m\u001b[38;5;132;43;01m}\u001b[39;49;00m\u001b[38;5;124;43m) :\u001b[39;49m\u001b[38;5;124;43m\"\u001b[39;49m\u001b[43m)\u001b[49m\u001b[43m)\u001b[49m\n\u001b[0;32m     57\u001b[0m \u001b[38;5;28;01melse\u001b[39;00m:\n",
      "\u001b[1;31mValueError\u001b[0m: invalid literal for int() with base 10: 'f'",
      "\nDuring handling of the above exception, another exception occurred:\n",
      "\u001b[1;31mValueError\u001b[0m                                Traceback (most recent call last)",
      "Input \u001b[1;32mIn [8]\u001b[0m, in \u001b[0;36m<cell line: 1>\u001b[1;34m()\u001b[0m\n\u001b[1;32m----> 1\u001b[0m \u001b[43mrolar_dado1\u001b[49m\u001b[43m(\u001b[49m\u001b[43m)\u001b[49m\n",
      "Input \u001b[1;32mIn [7]\u001b[0m, in \u001b[0;36mrolar_dado1\u001b[1;34m()\u001b[0m\n\u001b[0;32m     63\u001b[0m continuar \u001b[38;5;241m=\u001b[39m \u001b[38;5;28;01mTrue\u001b[39;00m\n\u001b[0;32m     64\u001b[0m \u001b[38;5;28mprint\u001b[39m(\u001b[38;5;124m'\u001b[39m\u001b[38;5;124mColocar um número\u001b[39m\u001b[38;5;124m'\u001b[39m)\n\u001b[1;32m---> 65\u001b[0m chute \u001b[38;5;241m=\u001b[39m \u001b[38;5;28;43mint\u001b[39;49m\u001b[43m(\u001b[49m\u001b[38;5;28;43minput\u001b[39;49m\u001b[43m(\u001b[49m\u001b[38;5;124;43mf\u001b[39;49m\u001b[38;5;124;43m\"\u001b[39;49m\u001b[38;5;124;43mAdivinhe o número do dado (entre \u001b[39;49m\u001b[38;5;132;43;01m{\u001b[39;49;00m\u001b[43minit\u001b[49m\u001b[38;5;132;43;01m}\u001b[39;49;00m\u001b[38;5;124;43m e \u001b[39;49m\u001b[38;5;132;43;01m{\u001b[39;49;00m\u001b[43mfinal\u001b[49m\u001b[38;5;241;43m-\u001b[39;49m\u001b[38;5;241;43m1\u001b[39;49m\u001b[38;5;132;43;01m}\u001b[39;49;00m\u001b[38;5;124;43m) :\u001b[39;49m\u001b[38;5;124;43m\"\u001b[39;49m\u001b[43m)\u001b[49m\u001b[43m)\u001b[49m\n",
      "\u001b[1;31mValueError\u001b[0m: invalid literal for int() with base 10: 's'"
     ]
    }
   ],
   "source": [
    "rolar_dado1()\n"
   ]
  },
  {
   "cell_type": "code",
   "execution_count": 14,
   "id": "48036501",
   "metadata": {
    "ExecuteTime": {
     "end_time": "2022-10-24T19:12:12.426005Z",
     "start_time": "2022-10-24T19:12:12.393003Z"
    }
   },
   "outputs": [
    {
     "ename": "ValueError",
     "evalue": "invalid literal for int() with base 10: 'a'",
     "output_type": "error",
     "traceback": [
      "\u001b[1;31m---------------------------------------------------------------------------\u001b[0m",
      "\u001b[1;31mValueError\u001b[0m                                Traceback (most recent call last)",
      "Input \u001b[1;32mIn [14]\u001b[0m, in \u001b[0;36m<cell line: 1>\u001b[1;34m()\u001b[0m\n\u001b[1;32m----> 1\u001b[0m \u001b[38;5;28;43mint\u001b[39;49m\u001b[43m(\u001b[49m\u001b[38;5;124;43m'\u001b[39;49m\u001b[38;5;124;43ma\u001b[39;49m\u001b[38;5;124;43m'\u001b[39;49m\u001b[43m)\u001b[49m\n",
      "\u001b[1;31mValueError\u001b[0m: invalid literal for int() with base 10: 'a'"
     ]
    }
   ],
   "source": [
    "int('a')"
   ]
  },
  {
   "cell_type": "code",
   "execution_count": null,
   "id": "1d8a7efa",
   "metadata": {},
   "outputs": [],
   "source": []
  }
 ],
 "metadata": {
  "kernelspec": {
   "display_name": "Python 3 (ipykernel)",
   "language": "python",
   "name": "python3"
  },
  "language_info": {
   "codemirror_mode": {
    "name": "ipython",
    "version": 3
   },
   "file_extension": ".py",
   "mimetype": "text/x-python",
   "name": "python",
   "nbconvert_exporter": "python",
   "pygments_lexer": "ipython3",
   "version": "3.9.12"
  },
  "toc": {
   "base_numbering": 1,
   "nav_menu": {},
   "number_sections": true,
   "sideBar": true,
   "skip_h1_title": false,
   "title_cell": "Table of Contents",
   "title_sidebar": "Contents",
   "toc_cell": false,
   "toc_position": {},
   "toc_section_display": true,
   "toc_window_display": false
  },
  "varInspector": {
   "cols": {
    "lenName": 16,
    "lenType": 16,
    "lenVar": 40
   },
   "kernels_config": {
    "python": {
     "delete_cmd_postfix": "",
     "delete_cmd_prefix": "del ",
     "library": "var_list.py",
     "varRefreshCmd": "print(var_dic_list())"
    },
    "r": {
     "delete_cmd_postfix": ") ",
     "delete_cmd_prefix": "rm(",
     "library": "var_list.r",
     "varRefreshCmd": "cat(var_dic_list()) "
    }
   },
   "types_to_exclude": [
    "module",
    "function",
    "builtin_function_or_method",
    "instance",
    "_Feature"
   ],
   "window_display": false
  }
 },
 "nbformat": 4,
 "nbformat_minor": 5
}
