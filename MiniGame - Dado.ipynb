{
 "cells": [
  {
   "cell_type": "code",
   "execution_count": null,
   "id": "4afb7a61",
   "metadata": {
    "ExecuteTime": {
     "end_time": "2023-01-26T23:24:37.950115Z",
     "start_time": "2023-01-26T23:24:11.982084Z"
    }
   },
   "outputs": [],
   "source": [
    "import random\n",
    "import re\n",
    "\n",
    "def jogar_dado():\n",
    "    pontuacao = 0\n",
    "    while True:\n",
    "        while True:\n",
    "            try:\n",
    "                escolha_jogador = int(input(\"Escolha um número entre 1 e 6: \"))\n",
    "                if 1 <= escolha_jogador <= 6:\n",
    "                    break\n",
    "                else:\n",
    "                    print(\"Entrada inválida, por favor escolha um número entre 1 e 6\")\n",
    "            except ValueError:\n",
    "                print(\"Entrada inválida, por favor digite um número inteiro válido\")\n",
    "\n",
    "        rolagem_dado = random.randint(1, 6)\n",
    "        if escolha_jogador == rolagem_dado:\n",
    "            print(\"Você acertou!\")\n",
    "            pontuacao += 1\n",
    "        else:\n",
    "            print(\"Desculpe, o número sorteado foi\", rolagem_dado)\n",
    "        print(\"Sua pontuação é: \", pontuacao)\n",
    "        jogar_novamente = input(\"Você deseja jogar novamente? (sim/nao) \").lower()\n",
    "        if re.search(\"^(sim|s|si)$\",jogar_novamente) == None:\n",
    "            print('Obrigado por jogar! As chances de um acerto nesse jogo são de 16.67%!')\n",
    "            break\n",
    "\n",
    "jogar_dado()"
   ]
  },
  {
   "cell_type": "code",
   "execution_count": null,
   "id": "1d8a7efa",
   "metadata": {},
   "outputs": [],
   "source": []
  }
 ],
 "metadata": {
  "kernelspec": {
   "display_name": "Python 3 (ipykernel)",
   "language": "python",
   "name": "python3"
  },
  "language_info": {
   "codemirror_mode": {
    "name": "ipython",
    "version": 3
   },
   "file_extension": ".py",
   "mimetype": "text/x-python",
   "name": "python",
   "nbconvert_exporter": "python",
   "pygments_lexer": "ipython3",
   "version": "3.9.12"
  },
  "toc": {
   "base_numbering": 1,
   "nav_menu": {},
   "number_sections": true,
   "sideBar": true,
   "skip_h1_title": false,
   "title_cell": "Table of Contents",
   "title_sidebar": "Contents",
   "toc_cell": false,
   "toc_position": {},
   "toc_section_display": true,
   "toc_window_display": false
  },
  "varInspector": {
   "cols": {
    "lenName": 16,
    "lenType": 16,
    "lenVar": 40
   },
   "kernels_config": {
    "python": {
     "delete_cmd_postfix": "",
     "delete_cmd_prefix": "del ",
     "library": "var_list.py",
     "varRefreshCmd": "print(var_dic_list())"
    },
    "r": {
     "delete_cmd_postfix": ") ",
     "delete_cmd_prefix": "rm(",
     "library": "var_list.r",
     "varRefreshCmd": "cat(var_dic_list()) "
    }
   },
   "types_to_exclude": [
    "module",
    "function",
    "builtin_function_or_method",
    "instance",
    "_Feature"
   ],
   "window_display": false
  }
 },
 "nbformat": 4,
 "nbformat_minor": 5
}
