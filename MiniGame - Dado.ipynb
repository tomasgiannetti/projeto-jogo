{
 "cells": [
  {
   "cell_type": "code",
   "execution_count": 7,
   "id": "38ac086a",
   "metadata": {
    "ExecuteTime": {
     "end_time": "2022-10-24T13:25:32.552251Z",
     "start_time": "2022-10-24T13:25:32.536251Z"
    }
   },
   "outputs": [],
   "source": [
    "import random"
   ]
  },
  {
   "cell_type": "code",
   "execution_count": 6,
   "id": "4afb7a61",
   "metadata": {
    "ExecuteTime": {
     "end_time": "2022-10-24T14:10:18.090682Z",
     "start_time": "2022-10-24T14:10:18.070140Z"
    }
   },
   "outputs": [],
   "source": [
    "def rolar_dado1():\n",
    "    import random\n",
    "    init = 1\n",
    "    final = 7\n",
    "    dado = int(random.randrange(init, final, 1))\n",
    "    acertou = False\n",
    "    continuar = True\n",
    "    contagem = 0\n",
    "    vitorias = 0\n",
    "    try:\n",
    "        chute = int(input(f\"Adivinhe o número do dado (entre {init} e {final-1}) :\"))\n",
    "    except:\n",
    "        continuar = True\n",
    "        print('Colocar um número')\n",
    "        rolar_dado1()\n",
    "\n",
    "\n",
    "    while continuar == True:\n",
    "        try:\n",
    "            if chute > final-1 or chute < init:\n",
    "                print(f'O dado só tem 6 lados e são números de {init} a {final-1}!')\n",
    "                continuar = True\n",
    "                novo_jogo = input('Quer jogar novamente?(Sim ou Não) ')\n",
    "                if novo_jogo == 'Sim' or novo_jogo == 'S' or novo_jogo == 's' or novo_jogo == 'sim' or novo_jogo == 'Si' or novo_jogo == 'si' or novo_jogo == 'yes' or novo_jogo == 'Yes':\n",
    "                    continuar = True\n",
    "                    acertou = False\n",
    "                    chute = int(input(f\"Adivinhe o número do dado (entre {init} e {final-1}) :\"))\n",
    "                else:\n",
    "                    print('Que pena! Até o proximo jogo!')\n",
    "                    continuar = False\n",
    "                    acertou = False\n",
    "\n",
    "            contagem +=1\n",
    "            dado = int(random.randrange(init, final, 1))\n",
    "            if chute == dado:\n",
    "                acertou = True\n",
    "                if acertou == True:\n",
    "                    vitorias += 1\n",
    "                    print(f'Parabéns! Você acertou! Você tem um total de {vitorias} vitorias em um total de {contagem} jogos')\n",
    "                    novo_jogo1 = input('Quer jogar novamente?(Sim ou não) ')\n",
    "\n",
    "                if novo_jogo1 == 'Sim' or novo_jogo1 == 'S' or novo_jogo1 == 's' or novo_jogo1 == 'sim' or novo_jogo1 == 'Si' or novo_jogo1 == 'si' or novo_jogo1 == 'yes' or novo_jogo1 == 'Yes':\n",
    "                    continuar = True\n",
    "                    acertou = False\n",
    "                    chute = int(input(f\"Adivinhe o número do dado (entre {init} e {final-1}) :\"))\n",
    "\n",
    "                else:\n",
    "                    print('Que pena! Até o proximo jogo!')\n",
    "                    print(f'Seu placar final foi de {vitorias} vitorias em um total de {contagem} jogos')\n",
    "                    continuar = False\n",
    "                    acertou = False\n",
    "                    break\n",
    "               \n",
    "\n",
    "            else:\n",
    "                print(f'Você não acertou! O dado deu {dado}. Você tem um total de {vitorias} vitorias em um total de {contagem} jogos')\n",
    "                novo_jogo = input('Quer jogar novamente?(Sim ou Não) ')\n",
    "\n",
    "                if novo_jogo == 'Sim' or novo_jogo == 'S' or novo_jogo == 's' or novo_jogo == 'sim' or novo_jogo == 'Si' or novo_jogo == 'si' or novo_jogo == 'yes' or novo_jogo == 'Yes':\n",
    "                    continuar = True\n",
    "                    acertou = False\n",
    "                    chute = int(input(f\"Adivinhe o número do dado (entre {init} e {final-1}) :\"))\n",
    "                else:\n",
    "                    print('Que pena! Até o proximo jogo!')\n",
    "                    continuar = False\n",
    "                    acertou = False\n",
    "                    break\n",
    "                \n",
    "        except:\n",
    "            print('Colocar um número')\n",
    "            continuar = True\n",
    "\n",
    "            \n",
    "            "
   ]
  },
  {
   "cell_type": "code",
   "execution_count": 7,
   "id": "f7d3ff97",
   "metadata": {
    "ExecuteTime": {
     "end_time": "2022-10-24T14:15:41.208305Z",
     "start_time": "2022-10-24T14:10:18.773317Z"
    },
    "scrolled": false
   },
   "outputs": [
    {
     "name": "stdout",
     "output_type": "stream",
     "text": [
      "Adivinhe o número do dado (entre 1 e 6) :2\n",
      "Você não acertou! O dado deu 1. Você tem um total de 0 vitorias em um total de 1 jogos\n",
      "Quer jogar novamente?(Sim ou Não) s\n",
      "Adivinhe o número do dado (entre 1 e 6) :asdf\n",
      "Colocar um número\n",
      "Você não acertou! O dado deu 4. Você tem um total de 0 vitorias em um total de 2 jogos\n",
      "Quer jogar novamente?(Sim ou Não) s\n",
      "Adivinhe o número do dado (entre 1 e 6) :asdf\n",
      "Colocar um número\n",
      "Você não acertou! O dado deu 4. Você tem um total de 0 vitorias em um total de 3 jogos\n",
      "Quer jogar novamente?(Sim ou Não) s\n",
      "Adivinhe o número do dado (entre 1 e 6) :5\n",
      "Parabéns! Você acertou! Você tem um total de 1 vitorias em um total de 4 jogos\n",
      "Quer jogar novamente?(Sim ou não) n\n",
      "Que pena! Até o proximo jogo!\n",
      "Seu placar final foi de 1 vitorias em um total de 4 jogos\n"
     ]
    }
   ],
   "source": [
    "rolar_dado1()"
   ]
  },
  {
   "cell_type": "code",
   "execution_count": null,
   "id": "16de4be0",
   "metadata": {},
   "outputs": [],
   "source": []
  }
 ],
 "metadata": {
  "kernelspec": {
   "display_name": "Python 3 (ipykernel)",
   "language": "python",
   "name": "python3"
  },
  "language_info": {
   "codemirror_mode": {
    "name": "ipython",
    "version": 3
   },
   "file_extension": ".py",
   "mimetype": "text/x-python",
   "name": "python",
   "nbconvert_exporter": "python",
   "pygments_lexer": "ipython3",
   "version": "3.9.12"
  },
  "toc": {
   "base_numbering": 1,
   "nav_menu": {},
   "number_sections": true,
   "sideBar": true,
   "skip_h1_title": false,
   "title_cell": "Table of Contents",
   "title_sidebar": "Contents",
   "toc_cell": false,
   "toc_position": {},
   "toc_section_display": true,
   "toc_window_display": false
  },
  "varInspector": {
   "cols": {
    "lenName": 16,
    "lenType": 16,
    "lenVar": 40
   },
   "kernels_config": {
    "python": {
     "delete_cmd_postfix": "",
     "delete_cmd_prefix": "del ",
     "library": "var_list.py",
     "varRefreshCmd": "print(var_dic_list())"
    },
    "r": {
     "delete_cmd_postfix": ") ",
     "delete_cmd_prefix": "rm(",
     "library": "var_list.r",
     "varRefreshCmd": "cat(var_dic_list()) "
    }
   },
   "types_to_exclude": [
    "module",
    "function",
    "builtin_function_or_method",
    "instance",
    "_Feature"
   ],
   "window_display": false
  }
 },
 "nbformat": 4,
 "nbformat_minor": 5
}
